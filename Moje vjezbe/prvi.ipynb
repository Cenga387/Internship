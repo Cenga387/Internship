{
 "cells": [
  {
   "cell_type": "code",
   "execution_count": 145,
   "metadata": {},
   "outputs": [
    {
     "name": "stdout",
     "output_type": "stream",
     "text": [
      "Ja\n",
      "sam\n",
      "Imran\n",
      "Cengic\n",
      "\n",
      "{'1': 'a', '2': 'b', '3': 'c', '4': 'd'}\n",
      "[0, 2, 4, 6, 8, 10, 12, 14, 16, 18]\n",
      "\n",
      "1 pon\n",
      "2 uto\n",
      "3 sri\n",
      "4 cet\n",
      "5 pet\n",
      "6 sub\n",
      "7 ned\n"
     ]
    }
   ],
   "source": [
    "a='Ja'\n",
    "b='sam'\n",
    "c='Imran'\n",
    "d='Cengic'\n",
    "f=['pon', 'uto', 'sri', 'cet', 'pet', 'sub', 'ned']\n",
    "print(a, b, c, d, sep=\"\\n\", end=\"\\n\")\n",
    "\n",
    "print()\n",
    "\n",
    "g={\n",
    "    '1': 'a',\n",
    "    '2': 'b',\n",
    "    '3': 'c',\n",
    "    '4': 'd'\n",
    "}\n",
    "\n",
    "print(g)\n",
    "e=[number for number in range(0,20) if number %2 == 0]\n",
    "\n",
    "print(e)\n",
    "print()\n",
    "\n",
    "for x in range(len(f)):\n",
    "    print(x + 1, f[x])"
   ]
  },
  {
   "cell_type": "code",
   "execution_count": 147,
   "metadata": {},
   "outputs": [
    {
     "name": "stdout",
     "output_type": "stream",
     "text": [
      "10\n",
      "20\n"
     ]
    }
   ],
   "source": [
    "num1=10\n",
    "\n",
    "print(num1)\n",
    "\n",
    "num2=20\n",
    "\n",
    "num1=num2\n",
    "\n",
    "print(num1)"
   ]
  },
  {
   "cell_type": "code",
   "execution_count": 164,
   "metadata": {},
   "outputs": [],
   "source": [
    "class Auto():\n",
    "    def __init__(self, make, model, year):\n",
    "        self.make=make\n",
    "        self.model=model\n",
    "        self.year=year\n",
    "    \n",
    "    def show_car(self):\n",
    "        print(\"The car is a\", self.make, self.model, self.year)"
   ]
  },
  {
   "cell_type": "code",
   "execution_count": 174,
   "metadata": {},
   "outputs": [],
   "source": [
    "class Employees():\n",
    "    def __init__(self, first_name, last_name, position, salary, phone_number):\n",
    "        self.first_name=first_name\n",
    "        self.last_name=last_name\n",
    "        self.position=position\n",
    "        self.salary=salary\n",
    "        self.phone_number=phone_number\n",
    "\n",
    "    def employee_record(self):\n",
    "        print('Employee', \n",
    "              self.first_name, \n",
    "              self.last_name, \n",
    "              'works on the position', \n",
    "              self.position, \n",
    "              'and has a salary of', \n",
    "              self.salary, 'a year.', \n",
    "              '\\nTheir phone number is', \n",
    "              self.phone_number)"
   ]
  },
  {
   "cell_type": "code",
   "execution_count": 177,
   "metadata": {},
   "outputs": [
    {
     "name": "stdout",
     "output_type": "stream",
     "text": [
      "Employee Imran Cengic works on the position AI engineer and has a salary of $120k a year. \n",
      "Their phone number is 062/300-318\n",
      "\n",
      "Employee Amar Hadzic works on the position Electrical engineer and has a salary of 100k a year. \n",
      "Their phone number is 062/256-531\n",
      "\n",
      "The car is a BMW E46 2002\n",
      "\n",
      "The car is a Kia Sportage 2020\n"
     ]
    }
   ],
   "source": [
    "\n",
    "employee1=Employees(\"Imran\", \"Cengic\", \"AI engineer\", \"$120k\", \"062/300-318\")\n",
    "employee2=Employees(\"Amar\", \"Hadzic\", \"Electrical engineer\", \"100k\", \"062/256-531\")\n",
    "employee1.employee_record()\n",
    "print()\n",
    "employee2.employee_record()\n",
    "print()\n",
    "\n",
    "auto1 = Auto(\"Kia\", \"Sportage\", \"2020\")\n",
    "auto2=Auto('BMW', \"E46\", \"2002\")\n",
    "auto2.show_car()\n",
    "print()\n",
    "auto1.show_car()"
   ]
  },
  {
   "cell_type": "markdown",
   "metadata": {},
   "source": [
    "Klasa user.py je definisana izvan ovog fajla i importovana u kodu ispod gdje je i iskorištena"
   ]
  },
  {
   "cell_type": "code",
   "execution_count": 1,
   "metadata": {},
   "outputs": [],
   "source": [
    "from user import *\n",
    "%run user.py"
   ]
  },
  {
   "cell_type": "code",
   "execution_count": 2,
   "metadata": {},
   "outputs": [],
   "source": [
    "user1=User()"
   ]
  },
  {
   "cell_type": "code",
   "execution_count": 3,
   "metadata": {},
   "outputs": [
    {
     "name": "stdout",
     "output_type": "stream",
     "text": [
      "Email is imocenga@gmail.com and your hashed password is -842178041810010565 \n",
      "Your birthdate is 10.01.2002\n"
     ]
    }
   ],
   "source": [
    "user1.display_user()"
   ]
  },
  {
   "cell_type": "code",
   "execution_count": 5,
   "metadata": {},
   "outputs": [
    {
     "name": "stdout",
     "output_type": "stream",
     "text": [
      "25\n"
     ]
    }
   ],
   "source": [
    "sum=0\n",
    "\n",
    "while sum<20:\n",
    "    num=int(input('Unesite broj: '))\n",
    "    sum=sum+num\n",
    "\n",
    "print(sum)"
   ]
  },
  {
   "cell_type": "code",
   "execution_count": 12,
   "metadata": {},
   "outputs": [
    {
     "name": "stdout",
     "output_type": "stream",
     "text": [
      "Password mora imati inimalno 8 karaktera\n",
      "Unesite password ponovo!\n",
      "Password mora imati inimalno 8 karaktera\n",
      "Unesite password ponovo!\n",
      "Password mora imati inimalno 8 karaktera\n",
      "Unesite password ponovo!\n",
      "Password mora imati inimalno 8 karaktera\n",
      "Unesite password ponovo!\n",
      "Password je:  12345678\n"
     ]
    }
   ],
   "source": [
    "while True:\n",
    "    password=input('Unesite password: ')\n",
    "    if len(password) < 8:\n",
    "        print('Password mora imati inimalno 8 karaktera')\n",
    "        print('Unesite password ponovo!')\n",
    "    else:\n",
    "        break\n",
    "print('Password je: ', password)\n",
    "    "
   ]
  },
  {
   "cell_type": "code",
   "execution_count": 29,
   "metadata": {},
   "outputs": [
    {
     "name": "stdout",
     "output_type": "stream",
     "text": [
      "[]\n"
     ]
    }
   ],
   "source": [
    "brojevi=[]\n",
    "\n",
    "while True:\n",
    "    num=input('Unesite broj')\n",
    "    if num in ['q', 'Q']:\n",
    "        break\n",
    "    else: \n",
    "        brojevi.append(int(num))\n",
    "\n",
    "print(brojevi)"
   ]
  },
  {
   "cell_type": "code",
   "execution_count": 47,
   "metadata": {},
   "outputs": [
    {
     "name": "stdout",
     "output_type": "stream",
     "text": [
      "Pogađanje brojeva\n",
      "Igra je za 2 igrača. Prvi igrač treba unijeti broj, a drugi igrač treba da pogodi taj broj.\n",
      "Da prekinete igru napisite 0\n",
      "Prekinuli ste igru!\n"
     ]
    }
   ],
   "source": [
    "print('Pogađanje brojeva')\n",
    "print('Igra je za 2 igrača. Prvi igrač treba unijeti broj, a drugi igrač treba da pogodi taj broj.')\n",
    "print('Da prekinete igru napisite 0')\n",
    "\n",
    "\n",
    "\n",
    "try:\n",
    "    broj=int(input('Unesite broj koji treba biti pogođen: '))\n",
    "    \n",
    "    while True: \n",
    "        vas_broj=int(input('Unesite broj'))\n",
    "\n",
    "        if vas_broj == 0:\n",
    "            print('Prekinuli ste igru!')\n",
    "            break\n",
    "\n",
    "        elif vas_broj == broj:\n",
    "            print('Pogodili ste tačan broj. Broj je: ', broj)\n",
    "            break\n",
    "\n",
    "        elif vas_broj<broj:\n",
    "            print('Vas broj je manji od zadanog')\n",
    "\n",
    "        else:\n",
    "            print('Vas broj je veci od zadanog.')\n",
    "\n",
    "except:\n",
    "    print('Doslo je do greske')"
   ]
  },
  {
   "cell_type": "code",
   "execution_count": 41,
   "metadata": {},
   "outputs": [
    {
     "name": "stdout",
     "output_type": "stream",
     "text": [
      "10,11,12,13,14,15,16,17,18,19,20,21,22,23,24,25,26,27,28,29,30,"
     ]
    }
   ],
   "source": [
    "for i in range(10,31):\n",
    "    print(i, end=',')"
   ]
  },
  {
   "cell_type": "code",
   "execution_count": 42,
   "metadata": {},
   "outputs": [
    {
     "name": "stdout",
     "output_type": "stream",
     "text": [
      "105\n"
     ]
    }
   ],
   "source": [
    "sum=0\n",
    "\n",
    "for i in range(15,21):\n",
    "    sum+=i\n",
    "\n",
    "print(sum)"
   ]
  },
  {
   "cell_type": "code",
   "execution_count": 49,
   "metadata": {},
   "outputs": [
    {
     "name": "stdout",
     "output_type": "stream",
     "text": [
      "Nekretnina je na lokaciji Sarajevo sa kvadraturom 52 i cijenom 120000\n",
      "Porez na nekretninu je 3600.0\n",
      "Nekretnina je na lokaciji Sarajevo sa kvadraturom 52 i cijenom 140000\n",
      "Porez na ovu nekretninu je 4200.0\n"
     ]
    }
   ],
   "source": [
    "class Stan():\n",
    "    def __init__(self, lokacija, kvadratura, cijena):\n",
    "        self.lokacija=lokacija\n",
    "        self.kvadratura=kvadratura\n",
    "        self.cijena=cijena\n",
    "    def promjena_cijene(self,nova_cijena):\n",
    "        self.cijena=nova_cijena\n",
    "    def porez(self):\n",
    "        return self.cijena*0.03\n",
    "    def prikaz(self):\n",
    "        print('Nekretnina je na lokaciji', self.lokacija, 'sa kvadraturom', self.kvadratura, 'i cijenom', self.cijena)\n",
    "\n",
    "stan1=Stan('Sarajevo', 52, 120000)\n",
    "stan1.prikaz()\n",
    "print('Porez na nekretninu je', stan1.porez())\n",
    "\n",
    "stan1.promjena_cijene(140000)\n",
    "stan1.prikaz()\n",
    "\n",
    "print('Porez na ovu nekretninu je', stan1.porez())"
   ]
  },
  {
   "cell_type": "code",
   "execution_count": 54,
   "metadata": {},
   "outputs": [
    {
     "name": "stdout",
     "output_type": "stream",
     "text": [
      "Obim pravougaonika je:  30\n",
      "Površina pravougaonika je:  50\n"
     ]
    }
   ],
   "source": [
    "class Pravougaonik():\n",
    "    def __init__(self, a, b):\n",
    "        self.a = a\n",
    "        self.b = b\n",
    "    def getPovršina(self):\n",
    "        print('Površina pravougaonika je: ', self.a*self.b)\n",
    "    def getObim(self):\n",
    "        print('Obim pravougaonika je: ', (2*self.a + 2*self.b))\n",
    "\n",
    "pravougaonik1=Pravougaonik(5, 10)\n",
    "pravougaonik1.getObim()\n",
    "pravougaonik1.getPovršina()"
   ]
  },
  {
   "cell_type": "code",
   "execution_count": 56,
   "metadata": {},
   "outputs": [
    {
     "name": "stdout",
     "output_type": "stream",
     "text": [
      "Student  Amar nije polozio Python kurs sa osvojenih 60 bodova.\n",
      "Student Haris je polozio Python kurs sa osvojenih 70 bodova.\n"
     ]
    }
   ],
   "source": [
    "class KursPython():\n",
    "    def __init__(self, student, bodovi):\n",
    "        self.student=student\n",
    "        self.bodovi=bodovi\n",
    "    def polozio(self):\n",
    "        if self.bodovi>=70:\n",
    "            print('Student', self.student, 'je polozio Python kurs sa osvojenih', self.bodovi, 'bodova.')\n",
    "        else:\n",
    "            print('Student ', self.student, 'nije polozio Python kurs sa osvojenih', self.bodovi, 'bodova.')\n",
    "    \n",
    "stud1=KursPython('Amar', 60)\n",
    "stud1.polozio()\n",
    "\n",
    "stud2=KursPython('Haris', 70)\n",
    "stud2.polozio()"
   ]
  },
  {
   "cell_type": "code",
   "execution_count": 59,
   "metadata": {},
   "outputs": [
    {
     "data": {
      "text/plain": [
       "('najduzu', 7)"
      ]
     },
     "execution_count": 59,
     "metadata": {},
     "output_type": "execute_result"
    }
   ],
   "source": [
    "def najduza_rijec(text):\n",
    "    najduza=0\n",
    "    rijeci=text.split()\n",
    "    rijec=''\n",
    "\n",
    "    for i in rijeci:\n",
    "        if len(i)>najduza:\n",
    "            najduza = len(i)\n",
    "            rijec=i\n",
    "\n",
    "    return rijec, najduza\n",
    "\n",
    "najduza_rijec('Imamo tekst koji sadrzi u sebi najduzu rijec')\n"
   ]
  },
  {
   "cell_type": "code",
   "execution_count": 78,
   "metadata": {},
   "outputs": [
    {
     "name": "stdout",
     "output_type": "stream",
     "text": [
      "1 2 3 4 5 6 7 8 9 10 11 12 \n",
      "1 2 3 4 5 6 7 8 9 10 11 12 13 14 15 \n",
      "1 2 3 4 5 6 7 8 9 10 11 12 13 14 15 16 17 18 \n",
      "1 2 3 4 5 6 7 8 9 10 11 12 13 14 15 16 17 18 19 20 21 \n",
      "1 2 3 4 5 6 7 8 9 10 11 12 13 14 15 16 17 18 19 20 21 22 23 24 \n"
     ]
    }
   ],
   "source": [
    "n=int(input('Unesite broj: '))\n",
    "\n",
    "for i in range(n):\n",
    "    for j in range(1, n-1):\n",
    "        print(j, end=' ')\n",
    "    print()"
   ]
  },
  {
   "cell_type": "code",
   "execution_count": 109,
   "metadata": {},
   "outputs": [
    {
     "name": "stdout",
     "output_type": "stream",
     "text": [
      "Cijena vaseg poziva je:  4.45\n"
     ]
    }
   ],
   "source": [
    "broj=input('Unesite broj koji zovete: ')\n",
    "vrijeme=input('Unesite vrijeme trajanja poziva u minutama: ')\n",
    "\n",
    "\n",
    "\n",
    "def izracunaj_cijenu_poziva(broj, vrijeme):\n",
    "    vrijeme=float(vrijeme)\n",
    "\n",
    "    if broj[:4] == '+387':\n",
    "        cijena_poziva = vrijeme*0.029\n",
    "    else:\n",
    "        cijena_poziva = vrijeme*0.89\n",
    "    return cijena_poziva\n",
    "cijena=izracunaj_cijenu_poziva(broj, vrijeme)\n",
    "\n",
    "print('Cijena vaseg poziva je: ', round(cijena, 3))\n"
   ]
  },
  {
   "cell_type": "code",
   "execution_count": 111,
   "metadata": {},
   "outputs": [
    {
     "data": {
      "text/plain": [
       "{'k': 1, 'j': 1, 'l': 2}"
      ]
     },
     "execution_count": 111,
     "metadata": {},
     "output_type": "execute_result"
    }
   ],
   "source": [
    "rijecnik={\n",
    "    'k': 1,\n",
    "    'j': 1,\n",
    "    'l': 2,\n",
    "    'k': 1\n",
    "          }\n",
    "def ukloni_duplikate(rijecnik):\n",
    "    novi_rijecnik={}\n",
    "    for i, j in rijecnik.items():\n",
    "        if i not in rijecnik.values():\n",
    "            novi_rijecnik[i]=j\n",
    "    return novi_rijecnik\n",
    "\n",
    "ukloni_duplikate(rijecnik)"
   ]
  },
  {
   "cell_type": "code",
   "execution_count": 115,
   "metadata": {},
   "outputs": [
    {
     "name": "stdout",
     "output_type": "stream",
     "text": [
      "Najveci broj je 26\n"
     ]
    }
   ],
   "source": [
    "num1=int(input('Unesi prvi broj:'))\n",
    "num2=int(input('Unesi drugi broj:'))\n",
    "num3=int(input('Unesi treci broj:'))\n",
    "\n",
    "if num1>=num2 and num1>=num3:\n",
    "    print('Najveci broj je', num1)\n",
    "elif num2>=num1 and num2>=num3:\n",
    "    print('Najveci broj je', num2)\n",
    "else:\n",
    "    print('Najveci broj je', num3)"
   ]
  },
  {
   "cell_type": "code",
   "execution_count": 116,
   "metadata": {},
   "outputs": [
    {
     "name": "stdout",
     "output_type": "stream",
     "text": [
      "[2, 18, 20, 100] [1, 3, 5, 7, 99]\n"
     ]
    }
   ],
   "source": [
    "lista=[1,2,3,5,7,18,20,99,100]\n",
    "\n",
    "parni=[]\n",
    "neparni=[]\n",
    "\n",
    "for i in lista:\n",
    "    if i%2 ==0:\n",
    "        parni.append(i)\n",
    "    else:\n",
    "        neparni.append(i)\n",
    "\n",
    "\n",
    "print(parni, neparni)"
   ]
  },
  {
   "cell_type": "code",
   "execution_count": 117,
   "metadata": {},
   "outputs": [],
   "source": [
    "def hello():\n",
    "    return 'Zdravo Mujaga'"
   ]
  },
  {
   "cell_type": "code",
   "execution_count": 118,
   "metadata": {},
   "outputs": [],
   "source": [
    "def other(some_def_func):\n",
    "    print('Drugi kod se izvrsava ovdje!')\n",
    "    print(some_def_func())"
   ]
  },
  {
   "cell_type": "code",
   "execution_count": 120,
   "metadata": {},
   "outputs": [
    {
     "data": {
      "text/plain": [
       "'Zdravo Mujaga'"
      ]
     },
     "execution_count": 120,
     "metadata": {},
     "output_type": "execute_result"
    }
   ],
   "source": [
    "hello()"
   ]
  },
  {
   "cell_type": "code",
   "execution_count": 124,
   "metadata": {},
   "outputs": [
    {
     "name": "stdout",
     "output_type": "stream",
     "text": [
      "Drugi kod se izvrsava ovdje!\n",
      "Zdravo Mujaga\n"
     ]
    }
   ],
   "source": [
    "other(hello)"
   ]
  },
  {
   "cell_type": "code",
   "execution_count": 125,
   "metadata": {},
   "outputs": [],
   "source": [
    "def new_decorator(original_func):\n",
    "    def wrap_func():\n",
    "        print('jedan kod')\n",
    "        original_func()\n",
    "        print('drugi kod')\n",
    "    return wrap_func"
   ]
  },
  {
   "cell_type": "code",
   "execution_count": 126,
   "metadata": {},
   "outputs": [],
   "source": [
    "def func_needs_decorator():\n",
    "    print('zelim dekoraciju')"
   ]
  },
  {
   "cell_type": "code",
   "execution_count": 127,
   "metadata": {},
   "outputs": [
    {
     "name": "stdout",
     "output_type": "stream",
     "text": [
      "zelim dekoraciju\n"
     ]
    }
   ],
   "source": [
    "func_needs_decorator()"
   ]
  },
  {
   "cell_type": "code",
   "execution_count": 128,
   "metadata": {},
   "outputs": [],
   "source": [
    "dekorisana_funkcija=new_decorator(func_needs_decorator)"
   ]
  },
  {
   "cell_type": "code",
   "execution_count": 129,
   "metadata": {},
   "outputs": [
    {
     "name": "stdout",
     "output_type": "stream",
     "text": [
      "jedan kod\n",
      "zelim dekoraciju\n",
      "drugi kod\n"
     ]
    }
   ],
   "source": [
    "dekorisana_funkcija()"
   ]
  },
  {
   "cell_type": "code",
   "execution_count": 134,
   "metadata": {},
   "outputs": [
    {
     "name": "stdout",
     "output_type": "stream",
     "text": [
      "Ucenik ime_prezime1 je pao ispit\n",
      "Ucenik ime_prezime2 je za popravnog\n",
      "Ucenik ime_prezime3 je polozio ispit\n",
      "Ucenik ime_prezime4 je za popravnog\n",
      "Ucenik ime_prezime5 je polozio ispit\n",
      "Ucenik ime_prezime6 je pao ispit\n",
      "Ucenik ime_prezime7 je polozio ispit\n",
      "Ucenik ime_prezime8 je polozio ispit\n",
      "Ucenik ime_prezime9 je pao ispit\n",
      "Ucenik ime_prezime10 je za popravnog\n"
     ]
    }
   ],
   "source": [
    "bodovi = {\n",
    "'ime_prezime1': 15, 'ime_prezime2':61,'ime_prezime3':73,'ime_prezime4': 65,\n",
    "'ime_prezime5': 95, 'ime_prezime6': 45, 'ime_prezime7': 88,\n",
    "'ime_prezime8': 71,'ime_prezime9': 39, 'ime_prezime10': 69}\n",
    "\n",
    "\n",
    "for k, v in bodovi.items():\n",
    "    if v >= 60 and v < 70:\n",
    "        print('Ucenik', k, 'je za popravnog')\n",
    "    elif v < 60: \n",
    "        print('Ucenik', k, 'je pao ispit')\n",
    "    else:\n",
    "        print('Ucenik', k , 'je polozio ispit')"
   ]
  },
  {
   "cell_type": "code",
   "execution_count": 139,
   "metadata": {},
   "outputs": [
    {
     "name": "stdout",
     "output_type": "stream",
     "text": [
      "Kljuc nije u rijecniku\n"
     ]
    }
   ],
   "source": [
    "dani ={ \n",
    "    1: \"ponedjeljak\",\n",
    "    2: \"utorak\",\n",
    "    3: \"srijeda\",\n",
    "    4: \"četvrtak\",\n",
    "    5: \"petak\",\n",
    "    6: \"subota\",\n",
    "    7: \"nedjelja\"}\n",
    "\n",
    "kljuc=input('unesite kljuc za provjeru: ')\n",
    "kljuc=int(kljuc)\n",
    "\n",
    "if kljuc in dani:\n",
    "    print('Dan je', dani[kljuc])\n",
    "else:\n",
    "    print('Kljuc nije u rijecniku')"
   ]
  },
  {
   "cell_type": "code",
   "execution_count": 149,
   "metadata": {},
   "outputs": [
    {
     "name": "stdout",
     "output_type": "stream",
     "text": [
      "Idealna tjelesna tezina\n",
      "Pretislost\n"
     ]
    }
   ],
   "source": [
    "def BMI_funkcija(weight, height, gender):\n",
    "    BMI=weight/((height/100)**2)\n",
    "    if gender == 'male':\n",
    "        if BMI < 20:\n",
    "            print('Pothranjenost')\n",
    "        elif BMI>=20 and BMI<=25:\n",
    "            print('Idealna tjelesna tezina')\n",
    "        else:\n",
    "            print('Pretislost')\n",
    "    if gender == 'female':\n",
    "        if BMI < 19:\n",
    "            print('Pothranjenost')\n",
    "        elif BMI>=19 and BMI<=24:\n",
    "            print('Idealna tjelesna tezina')\n",
    "        else:\n",
    "            print('Pretislost')\n",
    "\n",
    "BMI_funkcija(81, 180, 'male')\n",
    "BMI_funkcija(80, 170, 'female')"
   ]
  },
  {
   "cell_type": "code",
   "execution_count": 197,
   "metadata": {},
   "outputs": [
    {
     "data": {
      "text/plain": [
       "False"
      ]
     },
     "execution_count": 197,
     "metadata": {},
     "output_type": "execute_result"
    }
   ],
   "source": [
    "broj=input('Unesite broj: ')\n",
    "\n",
    "def armstrong(broj):\n",
    "    num=0\n",
    "    for i in broj:\n",
    "        num += pow(int(i), len(broj))\n",
    "    if num==int(broj):\n",
    "        return True\n",
    "    else: \n",
    "        return False\n",
    "    \n",
    "armstrong(broj)\n",
    "\n"
   ]
  },
  {
   "cell_type": "code",
   "execution_count": 211,
   "metadata": {},
   "outputs": [
    {
     "name": "stdout",
     "output_type": "stream",
     "text": [
      "kjnmbvxzc\n"
     ]
    }
   ],
   "source": [
    "recenica=input('Unesite recenicu: ')\n",
    "\n",
    "def bez_samoglasnika(recenica):\n",
    "    for i in recenica.split():\n",
    "       \n",
    "        if 'a' in i:\n",
    "            pass\n",
    "        elif 'e' in i:\n",
    "            pass\n",
    "        elif 'i' in i:\n",
    "            pass\n",
    "        elif 'o' in i:\n",
    "            pass\n",
    "        elif 'u' in i:\n",
    "            pass\n",
    "        else:\n",
    "            print(i)\n",
    "\n",
    "\n",
    "bez_samoglasnika(recenica)\n"
   ]
  },
  {
   "cell_type": "code",
   "execution_count": 219,
   "metadata": {},
   "outputs": [
    {
     "ename": "KeyboardInterrupt",
     "evalue": "Interrupted by user",
     "output_type": "error",
     "traceback": [
      "\u001b[1;31m---------------------------------------------------------------------------\u001b[0m",
      "\u001b[1;31mKeyboardInterrupt\u001b[0m                         Traceback (most recent call last)",
      "Cell \u001b[1;32mIn[219], line 1\u001b[0m\n\u001b[1;32m----> 1\u001b[0m sifra\u001b[38;5;241m=\u001b[39m\u001b[38;5;28;43minput\u001b[39;49m\u001b[43m(\u001b[49m\u001b[38;5;124;43m'\u001b[39;49m\u001b[38;5;124;43mUnesite password: \u001b[39;49m\u001b[38;5;124;43m'\u001b[39;49m\u001b[43m)\u001b[49m\n\u001b[0;32m      2\u001b[0m \u001b[38;5;28;01mdef\u001b[39;00m \u001b[38;5;21mpassword\u001b[39m(sifra):\n\u001b[0;32m      3\u001b[0m     \u001b[38;5;28;01mif\u001b[39;00m \u001b[38;5;28mlen\u001b[39m(sifra) \u001b[38;5;241m<\u001b[39m\u001b[38;5;241m=\u001b[39m \u001b[38;5;241m8\u001b[39m \u001b[38;5;129;01mand\u001b[39;00m \u001b[38;5;28mlen\u001b[39m(sifra) \u001b[38;5;241m>\u001b[39m\u001b[38;5;241m=\u001b[39m\u001b[38;5;241m16\u001b[39m:\n",
      "File \u001b[1;32m~\\AppData\\Roaming\\Python\\Python312\\site-packages\\ipykernel\\kernelbase.py:1282\u001b[0m, in \u001b[0;36mKernel.raw_input\u001b[1;34m(self, prompt)\u001b[0m\n\u001b[0;32m   1280\u001b[0m     msg \u001b[38;5;241m=\u001b[39m \u001b[38;5;124m\"\u001b[39m\u001b[38;5;124mraw_input was called, but this frontend does not support input requests.\u001b[39m\u001b[38;5;124m\"\u001b[39m\n\u001b[0;32m   1281\u001b[0m     \u001b[38;5;28;01mraise\u001b[39;00m StdinNotImplementedError(msg)\n\u001b[1;32m-> 1282\u001b[0m \u001b[38;5;28;01mreturn\u001b[39;00m \u001b[38;5;28;43mself\u001b[39;49m\u001b[38;5;241;43m.\u001b[39;49m\u001b[43m_input_request\u001b[49m\u001b[43m(\u001b[49m\n\u001b[0;32m   1283\u001b[0m \u001b[43m    \u001b[49m\u001b[38;5;28;43mstr\u001b[39;49m\u001b[43m(\u001b[49m\u001b[43mprompt\u001b[49m\u001b[43m)\u001b[49m\u001b[43m,\u001b[49m\n\u001b[0;32m   1284\u001b[0m \u001b[43m    \u001b[49m\u001b[38;5;28;43mself\u001b[39;49m\u001b[38;5;241;43m.\u001b[39;49m\u001b[43m_parent_ident\u001b[49m\u001b[43m[\u001b[49m\u001b[38;5;124;43m\"\u001b[39;49m\u001b[38;5;124;43mshell\u001b[39;49m\u001b[38;5;124;43m\"\u001b[39;49m\u001b[43m]\u001b[49m\u001b[43m,\u001b[49m\n\u001b[0;32m   1285\u001b[0m \u001b[43m    \u001b[49m\u001b[38;5;28;43mself\u001b[39;49m\u001b[38;5;241;43m.\u001b[39;49m\u001b[43mget_parent\u001b[49m\u001b[43m(\u001b[49m\u001b[38;5;124;43m\"\u001b[39;49m\u001b[38;5;124;43mshell\u001b[39;49m\u001b[38;5;124;43m\"\u001b[39;49m\u001b[43m)\u001b[49m\u001b[43m,\u001b[49m\n\u001b[0;32m   1286\u001b[0m \u001b[43m    \u001b[49m\u001b[43mpassword\u001b[49m\u001b[38;5;241;43m=\u001b[39;49m\u001b[38;5;28;43;01mFalse\u001b[39;49;00m\u001b[43m,\u001b[49m\n\u001b[0;32m   1287\u001b[0m \u001b[43m\u001b[49m\u001b[43m)\u001b[49m\n",
      "File \u001b[1;32m~\\AppData\\Roaming\\Python\\Python312\\site-packages\\ipykernel\\kernelbase.py:1325\u001b[0m, in \u001b[0;36mKernel._input_request\u001b[1;34m(self, prompt, ident, parent, password)\u001b[0m\n\u001b[0;32m   1322\u001b[0m \u001b[38;5;28;01mexcept\u001b[39;00m \u001b[38;5;167;01mKeyboardInterrupt\u001b[39;00m:\n\u001b[0;32m   1323\u001b[0m     \u001b[38;5;66;03m# re-raise KeyboardInterrupt, to truncate traceback\u001b[39;00m\n\u001b[0;32m   1324\u001b[0m     msg \u001b[38;5;241m=\u001b[39m \u001b[38;5;124m\"\u001b[39m\u001b[38;5;124mInterrupted by user\u001b[39m\u001b[38;5;124m\"\u001b[39m\n\u001b[1;32m-> 1325\u001b[0m     \u001b[38;5;28;01mraise\u001b[39;00m \u001b[38;5;167;01mKeyboardInterrupt\u001b[39;00m(msg) \u001b[38;5;28;01mfrom\u001b[39;00m \u001b[38;5;28;01mNone\u001b[39;00m\n\u001b[0;32m   1326\u001b[0m \u001b[38;5;28;01mexcept\u001b[39;00m \u001b[38;5;167;01mException\u001b[39;00m:\n\u001b[0;32m   1327\u001b[0m     \u001b[38;5;28mself\u001b[39m\u001b[38;5;241m.\u001b[39mlog\u001b[38;5;241m.\u001b[39mwarning(\u001b[38;5;124m\"\u001b[39m\u001b[38;5;124mInvalid Message:\u001b[39m\u001b[38;5;124m\"\u001b[39m, exc_info\u001b[38;5;241m=\u001b[39m\u001b[38;5;28;01mTrue\u001b[39;00m)\n",
      "\u001b[1;31mKeyboardInterrupt\u001b[0m: Interrupted by user"
     ]
    }
   ],
   "source": [
    "sifra=input('Unesite password: ')\n",
    "def password(sifra):\n",
    "    if len(sifra) <= 8 and len(sifra) >=16:\n",
    "        sifra=input('Unesite sifru ponovo')\n",
    "    elif '$' not in sifra:\n",
    "        sifra=input('Unesite sifru ponovo')\n",
    "    elif '!' not in sifra:\n",
    "        sifra=input('Unesite sifru ponovo')\n",
    "    elif '/' not in sifra:\n",
    "        sifra=input('Unesite sifru ponovo')\n",
    "    else: \n",
    "        print('Vasa sifra je uspjesno pohranjena')\n",
    "\n",
    "\n",
    "password(sifra)"
   ]
  },
  {
   "cell_type": "code",
   "execution_count": 2,
   "metadata": {},
   "outputs": [
    {
     "name": "stdout",
     "output_type": "stream",
     "text": [
      "Pogresno ste unijeli password. Imate jos 4 pokusaja\n",
      "Pogresno ste unijeli password. Imate jos 3 pokusaja\n",
      "Uspjesno ste se ulogovali\n"
     ]
    }
   ],
   "source": [
    "password='DivanDan!'\n",
    "\n",
    "counter=5\n",
    "\n",
    "while counter > 0:\n",
    "    password1=input('Unesite password')\n",
    "\n",
    "    if password1==password:\n",
    "        print('Uspjesno ste se ulogovali')\n",
    "        break\n",
    "    else:\n",
    "        counter-=1\n",
    "\n",
    "        if counter>0:\n",
    "            print(f'Pogresno ste unijeli password. Imate jos', counter, 'pokusaja')\n",
    "        else:\n",
    "            print('Pogrijesili ste password 5 puta. Pokusajte ponovo kasnije')\n",
    "    "
   ]
  },
  {
   "cell_type": "code",
   "execution_count": 5,
   "metadata": {},
   "outputs": [
    {
     "name": "stdout",
     "output_type": "stream",
     "text": [
      "Hladno, pokusajte ponovo.\n",
      "Toplo, pokusajte ponovo\n",
      "Toplo, pokusajte ponovo\n",
      "Toplo, pokusajte ponovo\n",
      "Pogodili ste broj\n"
     ]
    }
   ],
   "source": [
    "import random\n",
    "bingo=random.randint(0,15)\n",
    "nas_broj=None\n",
    "\n",
    "while nas_broj!=bingo:\n",
    "    nas_broj=input('Unesite broj')\n",
    "    nas_broj=int(nas_broj)\n",
    "    if nas_broj==bingo:\n",
    "        print('Pogodili ste broj')\n",
    "        break\n",
    "    elif abs(nas_broj-bingo)>=4:\n",
    "        print('Hladno, pokusajte ponovo.')\n",
    "    elif abs(nas_broj-bingo)<4:\n",
    "        print('Toplo, pokusajte ponovo')\n",
    "    else:\n",
    "        print('Broj je izvan rangea')"
   ]
  },
  {
   "cell_type": "code",
   "execution_count": 10,
   "metadata": {},
   "outputs": [
    {
     "name": "stdout",
     "output_type": "stream",
     "text": [
      "Dan je cetvrtak\n"
     ]
    }
   ],
   "source": [
    "dani = {1: 'ponedeljak',\n",
    "        2: 'utorak',\n",
    "        3: 'srijeda',\n",
    "        4: 'cetvrtak',\n",
    "        5: 'petak',\n",
    "        6: 'subota',\n",
    "        7: 'nedelja'\n",
    "}\n",
    "\n",
    "key=int(input('Unesite kljuc za provjeru'))\n",
    "\n",
    "if key in dani:\n",
    "    print('Dan je', dani[key])\n",
    "else:\n",
    "    print('Kljuc nije u rijecniku')"
   ]
  },
  {
   "cell_type": "code",
   "execution_count": 12,
   "metadata": {},
   "outputs": [
    {
     "name": "stdout",
     "output_type": "stream",
     "text": [
      "Imran Cengic vi se nalazite u trecoj deceniji zivota\n"
     ]
    }
   ],
   "source": [
    "ime=input('Unestie ime: ')\n",
    "prezime=input('Unesite prezime: ')\n",
    "godina=input('Unesite svoju godinu rodjenja: ')\n",
    "godina=int(godina)\n",
    "\n",
    "if 0<godina<10:\n",
    "    print(ime, prezime, 'vi se nalazite u prvoj deceniji zivota')\n",
    "elif 10<godina<20:\n",
    "    print(ime, prezime, 'vi se nalazite u drugoj deceniji zivota')\n",
    "elif 20<godina<30:\n",
    "    print(ime, prezime, 'vi se nalazite u trecoj deceniji zivota')\n",
    "elif 30<godina<40:\n",
    "    print(ime, prezime, 'vi se nalazite u cetvrtoj deceniji zivota')\n",
    "elif 40<godina<50:\n",
    "    print(ime, prezime, 'vi se nalazite u petoj deceniji zivota')\n"
   ]
  }
 ],
 "metadata": {
  "kernelspec": {
   "display_name": "Python 3",
   "language": "python",
   "name": "python3"
  },
  "language_info": {
   "codemirror_mode": {
    "name": "ipython",
    "version": 3
   },
   "file_extension": ".py",
   "mimetype": "text/x-python",
   "name": "python",
   "nbconvert_exporter": "python",
   "pygments_lexer": "ipython3",
   "version": "3.12.2"
  }
 },
 "nbformat": 4,
 "nbformat_minor": 2
}
