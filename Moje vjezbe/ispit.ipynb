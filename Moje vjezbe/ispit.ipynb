{
 "cells": [
  {
   "cell_type": "markdown",
   "metadata": {},
   "source": [
    "Zadatak 1"
   ]
  },
  {
   "cell_type": "code",
   "execution_count": 6,
   "metadata": {},
   "outputs": [
    {
     "name": "stdout",
     "output_type": "stream",
     "text": [
      "Uneseni broj 9 je neparan i sastoji  se od 1 cifre.\n"
     ]
    }
   ],
   "source": [
    "broj=int(input('Unesite broj za provjeru: '))\n",
    "\n",
    "def provjera_neparnosti(broj):\n",
    "    if broj % 2 != 0:\n",
    "        print('Uneseni broj', broj, 'je neparan i sastoji  se od', len(str(broj)), 'cifre.')\n",
    "    else:\n",
    "        print('Broj je paran')\n",
    "\n",
    "provjera_neparnosti(broj)"
   ]
  },
  {
   "cell_type": "markdown",
   "metadata": {},
   "source": [
    "Zadatak 2"
   ]
  },
  {
   "cell_type": "code",
   "execution_count": 36,
   "metadata": {},
   "outputs": [
    {
     "name": "stdout",
     "output_type": "stream",
     "text": [
      "6\n"
     ]
    }
   ],
   "source": [
    "brojevi=[]\n",
    "\n",
    "while True:\n",
    "    num=input('Unesite broj')\n",
    "    if num in 'q':\n",
    "        break\n",
    "    else: \n",
    "        brojevi.append(int(num))\n",
    "\n",
    "print(sum(brojevi))"
   ]
  },
  {
   "cell_type": "markdown",
   "metadata": {},
   "source": [
    "Zadatak 3"
   ]
  },
  {
   "cell_type": "code",
   "execution_count": 9,
   "metadata": {},
   "outputs": [
    {
     "name": "stdout",
     "output_type": "stream",
     "text": [
      "['cvrst', 'smrt']\n",
      "['python', 'pet', 'ja', 'interpretacija', 'funkcija', 'testiranje', 'zivot']\n"
     ]
    }
   ],
   "source": [
    "lista=['python', 'pet', 'ja', 'interpretacija', 'funkcija', 'testiranje', 'cvrst', 'zivot', 'smrt']\n",
    "\n",
    "bez_samoglasnika=[]\n",
    "sa_samoglasnicima=[]\n",
    "\n",
    "for el in lista:\n",
    "    if 'a'in el:\n",
    "        sa_samoglasnicima.append(el)\n",
    "    elif 'e' in el:\n",
    "        sa_samoglasnicima.append(el)\n",
    "    elif 'i' in el:\n",
    "        sa_samoglasnicima.append(el)\n",
    "    elif 'o' in el:\n",
    "        sa_samoglasnicima.append(el)\n",
    "    elif 'u' in el:\n",
    "        sa_samoglasnicima.append(el)\n",
    "    else: \n",
    "        bez_samoglasnika.append(el)\n",
    "\n",
    "print(bez_samoglasnika)\n",
    "print(sa_samoglasnicima)\n"
   ]
  },
  {
   "cell_type": "markdown",
   "metadata": {},
   "source": [
    "Zadatak 4"
   ]
  },
  {
   "cell_type": "code",
   "execution_count": 28,
   "metadata": {},
   "outputs": [
    {
     "name": "stdout",
     "output_type": "stream",
     "text": [
      "Cijena poziva je 0.25 KM\n",
      "None\n"
     ]
    }
   ],
   "source": [
    "class Imenik():\n",
    "    def __init__(self, ime, broj_telefona, naj_broj=False):\n",
    "        self.ime=ime\n",
    "        self.broj_telefona=broj_telefona\n",
    "        self.naj_broj=naj_broj\n",
    "    \n",
    "    def promjena_imena(self,novo_ime):\n",
    "        self.ime=novo_ime\n",
    "\n",
    "    def promjena_broja(self, novi_broj):\n",
    "        self.broj_telefona=novi_broj\n",
    "    \n",
    "    def promjena_naj_broja(self, novi_naj_broj):\n",
    "        self.naj_broj=novi_naj_broj\n",
    "\n",
    "    def cijena_poziva(self,vrijeme, broj):\n",
    "        broj=input('Unesite broj koji vas zove:')\n",
    "        if broj == self.naj_broj:\n",
    "            print('Cijena poziva je', vrijeme*0.025, 'KM')\n",
    "        else: \n",
    "            print('Cijena poziva je', vrijeme*0.05,'KM')\n",
    "\n",
    "osoba1=Imenik('Imran', '062300318', '061211672')\n",
    "\n",
    "osoba1.promjena_imena('Amar')\n",
    "print(osoba1.cijena_poziva(5,broj))\n",
    "\n"
   ]
  },
  {
   "cell_type": "markdown",
   "metadata": {},
   "source": [
    "Zadatak 6"
   ]
  },
  {
   "cell_type": "code",
   "execution_count": 35,
   "metadata": {},
   "outputs": [
    {
     "name": "stdout",
     "output_type": "stream",
     "text": [
      "[1, 2, 3, 4, 5, 6]\n"
     ]
    }
   ],
   "source": [
    "lista=[1,2,3,4,1,1,3,4,5,6]\n",
    "\n",
    "nova_lista=[]\n",
    "\n",
    "def ukloni_duplikate(lista):\n",
    "    for el in lista:\n",
    "        if el not in nova_lista:\n",
    "            nova_lista.append(el)\n",
    "\n",
    "ukloni_duplikate(lista)\n",
    "print(nova_lista)"
   ]
  },
  {
   "cell_type": "markdown",
   "metadata": {},
   "source": [
    "Zadatak 5"
   ]
  },
  {
   "cell_type": "code",
   "execution_count": 39,
   "metadata": {},
   "outputs": [
    {
     "data": {
      "text/plain": [
       "True"
      ]
     },
     "execution_count": 39,
     "metadata": {},
     "output_type": "execute_result"
    }
   ],
   "source": [
    "n_torka=(('Red', 'White', 'Blue'), ('Green', 'Pink', 'Purple'), ('Orange', 'Yellow','Lime'))\n",
    "\n",
    "def check_word(tupl, word):\n",
    "    for sub_tupl in tupl:\n",
    "        if word in sub_tupl:\n",
    "            return True\n",
    "    return False\n",
    "\n",
    "check_word(n_torka, 'Pink')"
   ]
  }
 ],
 "metadata": {
  "kernelspec": {
   "display_name": "Python 3",
   "language": "python",
   "name": "python3"
  },
  "language_info": {
   "codemirror_mode": {
    "name": "ipython",
    "version": 3
   },
   "file_extension": ".py",
   "mimetype": "text/x-python",
   "name": "python",
   "nbconvert_exporter": "python",
   "pygments_lexer": "ipython3",
   "version": "3.12.2"
  }
 },
 "nbformat": 4,
 "nbformat_minor": 2
}
