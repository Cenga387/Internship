{
 "cells": [
  {
   "attachments": {},
   "cell_type": "markdown",
   "metadata": {},
   "source": [
    "## Exploratory Data Analysis I"
   ]
  },
  {
   "cell_type": "markdown",
   "metadata": {},
   "source": [
    "\n",
    "Exploratory Data Analysis (EDA) je proces analize podataka kojem je cilj razumjeti osnovne karakteristike skupa podataka i otkriti uzorke, odnose ili nepravilnosti koje mogu biti korisne za dalju analizu. EDA se obično primenjuje na sirove podatke pre nego što se primene složenije statističke metode ili algoritmi za modeliranje. Glavni ciljevi EDA-a uključuju:\n",
    "\n",
    "Identifikacija i razumjevanje strukture podataka: EDA pomaže u prepoznavanju osnovnih karakteristika skupa podataka, kao što su distribucije, srednje vrednosti, varijacije i slično.\n",
    "\n",
    "Detekcija nepravilnosti i outlier-a: EDA pomaže identifikaciji neobičnih vrednosti u podacima, poznatih kao outlier-i, koji mogu ukazivati na greške u prikupljanju podataka ili značajne informacije.\n",
    "\n",
    "Proučavanje uzoraka i odnosa: Analizom grafikona, tabela i drugih vizualizacija, EDA pomaže u identifikaciji uzoraka i odnosa između različitih promenljivih u skupu podataka.\n",
    "\n",
    "Priprema podataka za dalju analizu: EDA može uključivati i čišćenje podataka, popunjavanje nedostajućih vrednosti ili transformaciju podataka kako bi se poboljšala njihova upotrebljivost za analizu.\n",
    "\n",
    "Postavljanje hipoteza: Na osnovu inicijalne analize podataka, istraživači mogu postaviti hipoteze koje će kasnije testirati pomoću statističkih metoda.\n",
    "\n",
    "EDA obično uključuje upotrebu statističkih grafikona, histograma, dijagrama raspršenosti, box-plot dijagrama, kao i opsežno korišćenje deskriptivne statistike. Ovo je važan korak u procesu analize podataka jer pomaže u razumevanju osnovnih karakteristika podataka pre nego što se primene složenije analize ili modeliranje podataka."
   ]
  },
  {
   "attachments": {},
   "cell_type": "markdown",
   "metadata": {},
   "source": [
    "Titanic dataset"
   ]
  },
  {
   "cell_type": "code",
   "execution_count": null,
   "metadata": {},
   "outputs": [],
   "source": [
    "import numpy as np\n",
    "import pandas as pd\n",
    "import seaborn as sns\n",
    "import matplotlib.pyplot as plt\n",
    "\n",
    "pd.set_option(\"display.precision\", 2)"
   ]
  },
  {
   "cell_type": "code",
   "execution_count": null,
   "metadata": {},
   "outputs": [],
   "source": [
    "df = pd.read_csv('datasets/titanic.csv')\n",
    "df.head()"
   ]
  },
  {
   "attachments": {},
   "cell_type": "markdown",
   "metadata": {},
   "source": [
    "LEGENDA"
   ]
  },
  {
   "attachments": {},
   "cell_type": "markdown",
   "metadata": {},
   "source": [
    "**survival** - Survival (0 = No; 1 = Yes) - PREŽIVJELI  \n",
    "**class** - Passenger Class (1 = 1st; 2 = 2nd; 3 = 3rd)  \n",
    "**name** - Name  \n",
    "**sex** - Sex - SPOL  \n",
    "**age** - Age  \n",
    "**sibsp** - Number of Siblings/Spouses Aboard - BROJ BRAĆE I SESTARA/ SUPRUŽNIKA  \n",
    "**parch** - Number of Parents/Children Aboard - BROJ RODITELJA/ DJECE NA BRODU  \n",
    "**ticket** - Ticket Number  \n",
    "**fare** - Passenger Fare  \n",
    "**cabin** - Cabin  \n",
    "**embarked** - Port of Embarkation (C = Cherbourg; Q = Queenstown; S = Southampton) - UKRCAVANJE  \n",
    "\n"
   ]
  },
  {
   "cell_type": "code",
   "execution_count": null,
   "metadata": {},
   "outputs": [],
   "source": [
    "df.set_index('PassengerId', inplace=True)"
   ]
  },
  {
   "cell_type": "code",
   "execution_count": null,
   "metadata": {},
   "outputs": [],
   "source": [
    "df.head()"
   ]
  },
  {
   "cell_type": "code",
   "execution_count": null,
   "metadata": {},
   "outputs": [],
   "source": [
    "df.shape"
   ]
  },
  {
   "cell_type": "code",
   "execution_count": null,
   "metadata": {},
   "outputs": [],
   "source": [
    "df.info()"
   ]
  },
  {
   "cell_type": "code",
   "execution_count": null,
   "metadata": {},
   "outputs": [],
   "source": [
    "df.describe()"
   ]
  },
  {
   "cell_type": "code",
   "execution_count": null,
   "metadata": {},
   "outputs": [],
   "source": [
    "df['Survived'].value_counts(normalize=True)"
   ]
  },
  {
   "attachments": {},
   "cell_type": "markdown",
   "metadata": {},
   "source": [
    "Missing values"
   ]
  },
  {
   "cell_type": "code",
   "execution_count": null,
   "metadata": {},
   "outputs": [],
   "source": [
    "total = df.isnull().sum().sort_values(ascending=False)\n",
    "\n",
    "procenat = df.isnull().sum()/df.isnull().count()*100\n",
    "\n",
    "missing_data = pd.concat([total, procenat], axis=1, keys=['Total', '%'])\n",
    "missing_data"
   ]
  },
  {
   "attachments": {},
   "cell_type": "markdown",
   "metadata": {},
   "source": [
    "Pronalazak kapetana"
   ]
  },
  {
   "cell_type": "code",
   "execution_count": null,
   "metadata": {},
   "outputs": [],
   "source": [
    "df[df[\"Name\"].str.contains(\"Capt\")]"
   ]
  },
  {
   "attachments": {},
   "cell_type": "markdown",
   "metadata": {},
   "source": [
    "Survived vs not-survived"
   ]
  },
  {
   "cell_type": "code",
   "execution_count": null,
   "metadata": {},
   "outputs": [],
   "source": [
    "sns.countplot(x='Sex', data=df, hue='Survived')"
   ]
  },
  {
   "cell_type": "code",
   "execution_count": null,
   "metadata": {},
   "outputs": [],
   "source": [
    "df.groupby(['Sex', 'Pclass']).describe()"
   ]
  },
  {
   "attachments": {},
   "cell_type": "markdown",
   "metadata": {},
   "source": [
    "Age and Sex distributions"
   ]
  },
  {
   "cell_type": "code",
   "execution_count": null,
   "metadata": {},
   "outputs": [],
   "source": [
    "sns.histplot(data=df[df['Sex']==\"female\"], x='Age',hue='Survived', bins=30, kde=True)\n"
   ]
  },
  {
   "cell_type": "code",
   "execution_count": null,
   "metadata": {},
   "outputs": [],
   "source": [
    "sns.histplot(data=df[df['Sex']==\"male\"], x='Age',hue='Survived', bins=30, kde=True)"
   ]
  },
  {
   "attachments": {},
   "cell_type": "markdown",
   "metadata": {},
   "source": [
    "Saving children first"
   ]
  },
  {
   "cell_type": "code",
   "execution_count": null,
   "metadata": {},
   "outputs": [],
   "source": [
    "df[df['Age']<18].groupby(['Sex','Pclass']).describe()"
   ]
  },
  {
   "attachments": {},
   "cell_type": "markdown",
   "metadata": {},
   "source": [
    "Passenger class distribution; Survived vs Non-Survived"
   ]
  },
  {
   "cell_type": "code",
   "execution_count": null,
   "metadata": {},
   "outputs": [],
   "source": [
    "sns.countplot(x='Pclass', data=df, hue='Survived')"
   ]
  },
  {
   "cell_type": "code",
   "execution_count": null,
   "metadata": {},
   "outputs": [],
   "source": [
    "sns.barplot(x='Pclass', y='Survived', data=df)"
   ]
  },
  {
   "cell_type": "code",
   "execution_count": null,
   "metadata": {},
   "outputs": [],
   "source": [
    "df.columns"
   ]
  },
  {
   "attachments": {},
   "cell_type": "markdown",
   "metadata": {},
   "source": [
    "Correlation Matrix and Heatmap"
   ]
  },
  {
   "cell_type": "code",
   "execution_count": null,
   "metadata": {},
   "outputs": [],
   "source": [
    "df_corr = df[['Age','SibSp','Parch','Fare']]"
   ]
  },
  {
   "cell_type": "code",
   "execution_count": null,
   "metadata": {},
   "outputs": [],
   "source": [
    "corr_M = df_corr.corr()"
   ]
  },
  {
   "cell_type": "code",
   "execution_count": null,
   "metadata": {},
   "outputs": [],
   "source": [
    "sns.heatmap(corr_M, annot=True)"
   ]
  }
 ],
 "metadata": {
  "kernelspec": {
   "display_name": "Python 3",
   "language": "python",
   "name": "python3"
  },
  "language_info": {
   "codemirror_mode": {
    "name": "ipython",
    "version": 3
   },
   "file_extension": ".py",
   "mimetype": "text/x-python",
   "name": "python",
   "nbconvert_exporter": "python",
   "pygments_lexer": "ipython3",
   "version": "3.11.4"
  },
  "orig_nbformat": 4
 },
 "nbformat": 4,
 "nbformat_minor": 2
}
