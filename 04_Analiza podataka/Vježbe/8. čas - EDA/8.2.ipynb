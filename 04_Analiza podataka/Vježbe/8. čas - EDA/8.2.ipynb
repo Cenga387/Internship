{
 "cells": [
  {
   "attachments": {},
   "cell_type": "markdown",
   "metadata": {},
   "source": [
    "## Exploratory Data Analysis II"
   ]
  },
  {
   "attachments": {},
   "cell_type": "markdown",
   "metadata": {},
   "source": [
    "IT Salary Survey EU  2020"
   ]
  },
  {
   "cell_type": "code",
   "execution_count": null,
   "metadata": {},
   "outputs": [],
   "source": [
    "import numpy as np\n",
    "import pandas as pd\n",
    "import seaborn as sns\n",
    "import matplotlib.pyplot as plt"
   ]
  },
  {
   "cell_type": "code",
   "execution_count": null,
   "metadata": {},
   "outputs": [],
   "source": [
    "df = pd.read_csv('datasets\\IT Salary Survey EU  2020.csv')"
   ]
  },
  {
   "cell_type": "code",
   "execution_count": null,
   "metadata": {},
   "outputs": [],
   "source": [
    "df.head()"
   ]
  },
  {
   "cell_type": "code",
   "execution_count": null,
   "metadata": {},
   "outputs": [],
   "source": [
    "df.columns"
   ]
  },
  {
   "cell_type": "code",
   "execution_count": null,
   "metadata": {},
   "outputs": [],
   "source": [
    "df = df.drop(columns = ['Annual bonus+stocks one year ago. Only answer if staying in same country',\n",
    "                        'Have you lost your job due to the coronavirus outbreak?', \n",
    "                        'Have you been forced to have a shorter working week (Kurzarbeit)? If yes, how many hours per week',\n",
    "                        'Have you received additional monetary support from your employer due to Work From Home? If yes, how much in 2020 in EUR',\n",
    "                        'Timestamp',\n",
    "                        'Years of experience in Germany',\n",
    "                        'Annual brutto salary (without bonus and stocks) one year ago. Only answer if staying in the same country',\n",
    "                        'Annual bonus+stocks one year ago. Only answer if staying in same country','Yearly bonus + stocks in EUR'])"
   ]
  },
  {
   "cell_type": "code",
   "execution_count": null,
   "metadata": {},
   "outputs": [],
   "source": [
    "df.rename(columns = {'Your main technology / programming language': 'Main technology', \n",
    "                     'Position ': 'Position',\n",
    "                     'Other technologies/programming languages you use often': 'Other technologies', \n",
    "                     'Yearly brutto salary (without bonus and stocks) in EUR': 'Yearly salary', \n",
    "                     'Number of vacation days': 'Vacation days', \n",
    "                     'Main language at work': 'Language at work',\n",
    "                     'Yearly bonus + stocks in EUR':'Yearly bonus',\n",
    "                     'Total years of experience': 'Years of experience' }, inplace = True)"
   ]
  },
  {
   "cell_type": "code",
   "execution_count": null,
   "metadata": {},
   "outputs": [],
   "source": [
    "df.head()"
   ]
  },
  {
   "cell_type": "code",
   "execution_count": null,
   "metadata": {},
   "outputs": [],
   "source": [
    "df.info()"
   ]
  },
  {
   "cell_type": "code",
   "execution_count": null,
   "metadata": {},
   "outputs": [],
   "source": [
    "df.isnull().sum()"
   ]
  },
  {
   "cell_type": "code",
   "execution_count": null,
   "metadata": {},
   "outputs": [],
   "source": [
    "df['Age'] = df['Age'].fillna(0).astype(int)\n",
    "df['Yearly salary'] = df['Yearly salary'].astype(int)"
   ]
  },
  {
   "cell_type": "code",
   "execution_count": null,
   "metadata": {},
   "outputs": [],
   "source": [
    "df['Vacation days'] = pd.to_numeric(df['Vacation days'], errors = 'coerce').fillna(0).astype(int)\n",
    "df['Years of experience'] = pd.to_numeric(df['Years of experience'], errors = 'coerce').fillna(0).astype(int)"
   ]
  },
  {
   "attachments": {},
   "cell_type": "markdown",
   "metadata": {},
   "source": [
    "Outliers detection"
   ]
  },
  {
   "cell_type": "code",
   "execution_count": null,
   "metadata": {},
   "outputs": [],
   "source": [
    "\n",
    "fig = plt.figure(figsize= (15, 8))\n",
    "plt.title('The distribution of the values:', fontsize= 16)\n",
    "\n",
    "axs = fig.subplots(nrows=2, ncols= 2)\n",
    "\n",
    "sns.boxplot(data = df, x= 'Age', ax = axs[0,0])\n",
    "sns.boxplot(data = df, x= 'Years of experience',ax = axs[0,1])\n",
    "sns.boxplot(data = df, x= 'Yearly salary',ax = axs[1,0])\n",
    "sns.boxplot(data = df, x= 'Vacation days', ax= axs[1,1])\n",
    "plt.show()"
   ]
  },
  {
   "cell_type": "code",
   "execution_count": null,
   "metadata": {},
   "outputs": [],
   "source": [
    "df['Yearly salary'].sort_values()"
   ]
  },
  {
   "cell_type": "code",
   "execution_count": null,
   "metadata": {},
   "outputs": [],
   "source": [
    "# delete the exterme outliers by their index\n",
    "\n",
    "df = df.drop(index = [473, 853])"
   ]
  },
  {
   "cell_type": "code",
   "execution_count": null,
   "metadata": {},
   "outputs": [],
   "source": [
    "df['Yearly salary'].sort_values()"
   ]
  },
  {
   "attachments": {},
   "cell_type": "markdown",
   "metadata": {},
   "source": [
    "Data Visualization"
   ]
  },
  {
   "cell_type": "code",
   "execution_count": null,
   "metadata": {},
   "outputs": [],
   "source": [
    "df['Age'].sort_values()"
   ]
  },
  {
   "cell_type": "code",
   "execution_count": null,
   "metadata": {},
   "outputs": [],
   "source": [
    "drop_index = (df[df['Age']==0].index).to_list()"
   ]
  },
  {
   "cell_type": "code",
   "execution_count": null,
   "metadata": {},
   "outputs": [],
   "source": [
    "df = df.drop(index = drop_index)"
   ]
  },
  {
   "cell_type": "code",
   "execution_count": null,
   "metadata": {},
   "outputs": [],
   "source": [
    "plt.figure(figsize=(18,6))\n",
    "sns.countplot(data= df, x='Age')\n",
    "plt.title('The distribution of the ages of the participants:', fontsize= 16)\n",
    "plt.xlabel('Age', fontsize= 14)\n",
    "plt.ylabel('Count', fontsize = 14)\n",
    "plt.show()"
   ]
  },
  {
   "cell_type": "code",
   "execution_count": null,
   "metadata": {},
   "outputs": [],
   "source": [
    "age_salary = df.groupby('Age', as_index = False)['Yearly salary'].median()\n",
    "plt.figure(figsize=(14, 6))\n",
    "sns.barplot(data= age_salary, x= 'Age', y= 'Yearly salary',palette= 'flare')\n",
    "plt.title('The Average salary for each age:', fontsize= 16)\n",
    "plt.xlabel('Age', fontsize= 14)\n",
    "plt.ylabel('Yearly Salary', fontsize = 14)\n",
    "plt.xticks(fontsize= 12)\n",
    "plt.show()\n"
   ]
  },
  {
   "cell_type": "code",
   "execution_count": null,
   "metadata": {},
   "outputs": [],
   "source": [
    "plt.figure(figsize=(16,8))\n",
    "sns.boxplot(data= df, x= df['Gender'], y= df['Age'], palette= 'deep')\n",
    "plt.title('The gender and the age:', fontsize = 16)\n",
    "plt.xlabel('')\n",
    "plt.ylabel('Age', fontsize= 16)\n",
    "plt.xticks(fontsize = 14)\n",
    "plt.yticks(fontsize = 14)\n",
    "plt.show()"
   ]
  },
  {
   "cell_type": "code",
   "execution_count": null,
   "metadata": {},
   "outputs": [],
   "source": [
    "plt.figure(figsize=(18,6))\n",
    "sns.histplot(data= df, x= 'Yearly salary', hue= 'Gender', palette= 'magma', kde= True, bins = 30)\n",
    "plt.title('The distribution of the yearly salary:',fontsize= 16)\n",
    "plt.xlabel('Yearly Salary', fontsize= 14)\n",
    "plt.ylabel('Count', fontsize= 14)\n",
    "plt.xticks(fontsize= 12)\n",
    "plt.yticks(fontsize = 12)\n",
    "plt.show()"
   ]
  },
  {
   "cell_type": "code",
   "execution_count": null,
   "metadata": {},
   "outputs": [],
   "source": [
    "df['Seniority level'].value_counts()"
   ]
  },
  {
   "cell_type": "code",
   "execution_count": null,
   "metadata": {},
   "outputs": [],
   "source": [
    "df = df.replace(['javascript','Javascript', 'js', 'JS'], 'JavaScript')\n",
    "df = df.replace(['python', 'Python '], 'Python')\n",
    "df = df.replace('c++', 'C++')\n",
    "df = df.replace(['.net', '.Net'], '.NET')\n",
    "df = df.replace(['Sql', 'sql'], 'SQL')\n",
    "df = df.replace(['php','Php'], 'PHP')\n",
    "df = df.replace('java', 'Java')\n",
    "df = df.replace(['typescript', 'Typescript'], 'TypeScript')"
   ]
  },
  {
   "cell_type": "code",
   "execution_count": null,
   "metadata": {},
   "outputs": [],
   "source": [
    "# top 10 programming languages and technologies:\n",
    "\n",
    "plt.figure(figsize=(16, 6))\n",
    "ax = df['Main technology'].value_counts().head(10).plot(kind = 'bar', color = 'royalblue')\n",
    "plt.title('Top 10 used programming languages and technologies:', fontsize = 20)\n",
    "plt.ylabel('Count', fontsize = 16)\n",
    "plt.xticks(fontsize = 14, rotation = 45)\n",
    "plt.bar_label(ax.containers[0], label_type = 'center',fontsize = 16, rotation = 90, color = 'w')\n",
    "plt.show()"
   ]
  },
  {
   "cell_type": "code",
   "execution_count": null,
   "metadata": {},
   "outputs": [],
   "source": [
    "salary_language = df.loc[df['Main technology'].isin(['Python', 'Java', 'JavaScript', 'PHP', 'C++', 'Scala', 'Swift', '.NET', 'Go'])]\n",
    "plt.figure(figsize = (16,8))\n",
    "sns.boxplot(data = salary_language, x = 'Main technology', y= 'Yearly salary', hue = 'Gender', palette = 'viridis')\n",
    "plt.title('The relationship between the top used programming languages , gender and the yearly salary:', fontsize = 16)\n",
    "plt.xlabel('')\n",
    "plt.ylabel('Yearly salary', fontsize= 14)\n",
    "plt.xticks(fontsize = 12)\n",
    "plt.yticks(fontsize = 12)\n",
    "plt.show()"
   ]
  }
 ],
 "metadata": {
  "kernelspec": {
   "display_name": "Python 3",
   "language": "python",
   "name": "python3"
  },
  "language_info": {
   "codemirror_mode": {
    "name": "ipython",
    "version": 3
   },
   "file_extension": ".py",
   "mimetype": "text/x-python",
   "name": "python",
   "nbconvert_exporter": "python",
   "pygments_lexer": "ipython3",
   "version": "3.12.2"
  },
  "orig_nbformat": 4
 },
 "nbformat": 4,
 "nbformat_minor": 2
}
