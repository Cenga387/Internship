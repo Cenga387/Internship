{
 "cells": [
  {
   "attachments": {},
   "cell_type": "markdown",
   "metadata": {},
   "source": [
    "Zadatak 1: <br />\n",
    "Napisati program koji provjerava da li je lista prazna ili nije. Ukoliko nije prazna, ispisati od koliko elemenata se sastoji."
   ]
  },
  {
   "cell_type": "code",
   "execution_count": null,
   "metadata": {},
   "outputs": [],
   "source": [
    "lista = []\n",
    "\n",
    "if len(lista) > 0 :\n",
    "    print(\"Lista ima: \", len(lista), \"elemenata.\")\n",
    "\n",
    "else:\n",
    "    print(\"Lista je prazna\")"
   ]
  },
  {
   "attachments": {},
   "cell_type": "markdown",
   "metadata": {},
   "source": [
    "Zadatak 2 <br />\n",
    "Napisati program koji traži od korisnika za autentifikaciju dužine passworda. Uvjet za minimalan broj karaktera je 8. Ako korisnik unese manje od 8 karaktera, traži se ponovan unos passworda. Ako korisnik unese više i jednako od 8 karaktera, program se završava i ispisuje unijeti password."
   ]
  },
  {
   "cell_type": "code",
   "execution_count": null,
   "metadata": {},
   "outputs": [],
   "source": [
    "while True:\n",
    "    password = input(\"Unesite password [min 8 karaktera]: \")\n",
    "    if len(password)<8:\n",
    "        print(\"Unesite ponovo password\")\n",
    "    else:\n",
    "        break\n",
    "\n",
    "print(\"Vaš password je: \", password)"
   ]
  },
  {
   "attachments": {},
   "cell_type": "markdown",
   "metadata": {},
   "source": [
    "Zadatak 3 <br />\n",
    "Napisati program koji prolazi kroz listu brojeva i ispisuje samo parne brojeve. <br />\n",
    "lista = [1, 2, 3, 5, 7, 18, 20, 99, 100]"
   ]
  },
  {
   "cell_type": "code",
   "execution_count": null,
   "metadata": {},
   "outputs": [],
   "source": [
    "lista = [1, 2, 3, 5, 7, 18, 20, 99, 100]\n",
    "\n",
    "for el in lista:\n",
    "    if el%2==0:\n",
    "        print(el)"
   ]
  },
  {
   "attachments": {},
   "cell_type": "markdown",
   "metadata": {},
   "source": [
    "Zadatak 4 <br />\n",
    "Napišite funkciju koja će izračunati prosjek brojeva u listi. Funkcija bi trebala primiti jedan argument (lista brojeva) i vratiti prosjek."
   ]
  },
  {
   "cell_type": "code",
   "execution_count": null,
   "metadata": {},
   "outputs": [],
   "source": [
    "def prosjek(lista):\n",
    "    suma = sum(lista)\n",
    "    broj_elemenata = len(lista)\n",
    "    prosjek = suma / broj_elemenata\n",
    "    return prosjek\n",
    "\n",
    "rezultat = prosjek([2, 8, 3, 1, 5])\n",
    "print(rezultat)"
   ]
  },
  {
   "attachments": {},
   "cell_type": "markdown",
   "metadata": {},
   "source": [
    "Zadatak 5 <br />\n",
    "Napišite funkciju koja će filtrirati sve neparne brojeve iz liste. Funkcija bi trebala primiti jedan argument (lista) i vratiti novu listu koja sadrži samo neparne brojeve."
   ]
  },
  {
   "cell_type": "code",
   "execution_count": null,
   "metadata": {},
   "outputs": [],
   "source": [
    "def filtriraj_neparne(lista):\n",
    "    neparni = []\n",
    "    for elem in lista:\n",
    "        if elem % 2 != 0:\n",
    "            neparni.append(elem)\n",
    "    return neparni\n",
    "\n",
    "rezultat = filtriraj_neparne([1, 2, 3, 4, 5])\n",
    "print(rezultat)"
   ]
  }
 ],
 "metadata": {
  "language_info": {
   "name": "python"
  },
  "orig_nbformat": 4
 },
 "nbformat": 4,
 "nbformat_minor": 2
}
