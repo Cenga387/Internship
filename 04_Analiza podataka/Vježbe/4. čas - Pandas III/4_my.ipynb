{
 "cells": [
  {
   "cell_type": "code",
   "execution_count": null,
   "metadata": {},
   "outputs": [],
   "source": [
    "import pandas as pd"
   ]
  },
  {
   "cell_type": "code",
   "execution_count": null,
   "metadata": {},
   "outputs": [],
   "source": [
    "week1 = pd.read_csv('datasets/Restaurant - Week 1 Sales.csv')\n",
    "week2 = pd.read_csv('datasets/Restaurant - Week 2 Sales.csv')\n",
    "customers = pd.read_csv('datasets/Restaurant - Customers.csv')\n",
    "food =  pd.read_csv('datasets/Restaurant - Foods.csv')"
   ]
  },
  {
   "cell_type": "code",
   "execution_count": null,
   "metadata": {},
   "outputs": [],
   "source": [
    "week1.head()"
   ]
  },
  {
   "cell_type": "code",
   "execution_count": null,
   "metadata": {},
   "outputs": [],
   "source": [
    "week2.head()"
   ]
  },
  {
   "cell_type": "code",
   "execution_count": null,
   "metadata": {},
   "outputs": [],
   "source": [
    "food"
   ]
  },
  {
   "cell_type": "code",
   "execution_count": null,
   "metadata": {},
   "outputs": [],
   "source": [
    "merged1 = week1.merge(customers, on='Customer ID', how='left')\n",
    "merged1.drop(['Occupation', 'Company', 'Gender'], axis=1, inplace=True)\n",
    "merged1.merge(food, on='Food ID', how='left')"
   ]
  },
  {
   "cell_type": "code",
   "execution_count": null,
   "metadata": {},
   "outputs": [],
   "source": [
    "merged2 = week2.merge(customers, on='Customer ID', how='left')\n",
    "merged2.drop(['Occupation', 'Company', 'Gender'], axis=1, inplace=True)\n",
    "merged2.merge(food, on='Food ID', how='left')"
   ]
  },
  {
   "cell_type": "code",
   "execution_count": null,
   "metadata": {},
   "outputs": [],
   "source": [
    "merged = pd.concat([merged1, merged2], keys=['Week 1', 'Week 2'])\n",
    "merged"
   ]
  }
 ],
 "metadata": {
  "kernelspec": {
   "display_name": "Python 3",
   "language": "python",
   "name": "python3"
  },
  "language_info": {
   "codemirror_mode": {
    "name": "ipython",
    "version": 3
   },
   "file_extension": ".py",
   "mimetype": "text/x-python",
   "name": "python",
   "nbconvert_exporter": "python",
   "pygments_lexer": "ipython3",
   "version": "3.12.2"
  }
 },
 "nbformat": 4,
 "nbformat_minor": 2
}
